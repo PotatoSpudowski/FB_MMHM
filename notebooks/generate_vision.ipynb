{
 "metadata": {
  "language_info": {
   "codemirror_mode": {
    "name": "ipython",
    "version": 3
   },
   "file_extension": ".py",
   "mimetype": "text/x-python",
   "name": "python",
   "nbconvert_exporter": "python",
   "pygments_lexer": "ipython3",
   "version": "3.7.6-final"
  },
  "orig_nbformat": 2,
  "kernelspec": {
   "name": "python3",
   "display_name": "Python 3.7.6 64-bit ('env': venv)",
   "metadata": {
    "interpreter": {
     "hash": "23f75e4144b72c2dcc2b843b14f529302aea98f01d7b76fa83707f19d0cdaf68"
    }
   }
  }
 },
 "nbformat": 4,
 "nbformat_minor": 2,
 "cells": [
  {
   "cell_type": "code",
   "execution_count": 18,
   "metadata": {},
   "outputs": [
    {
     "output_type": "stream",
     "name": "stderr",
     "text": [
      "[nltk_data] Downloading package stopwords to /home/ubuntu/nltk_data...\n[nltk_data]   Package stopwords is already up-to-date!\n[nltk_data] Downloading package punkt to /home/ubuntu/nltk_data...\n[nltk_data]   Unzipping tokenizers/punkt.zip.\n"
     ]
    },
    {
     "output_type": "execute_result",
     "data": {
      "text/plain": [
       "True"
      ]
     },
     "metadata": {},
     "execution_count": 18
    }
   ],
   "source": [
    "import pandas as pd \n",
    "\n",
    "from nltk.corpus import stopwords \n",
    "from nltk.tokenize import word_tokenize\n",
    "\n",
    "import nltk\n",
    "nltk.download('stopwords')\n",
    "nltk.download('punkt')"
   ]
  },
  {
   "cell_type": "code",
   "execution_count": 39,
   "metadata": {},
   "outputs": [],
   "source": [
    "vision = pd.read_csv('../data/interim/vision.csv',index_col=0)\n",
    "vision.fillna('',inplace=True)"
   ]
  },
  {
   "cell_type": "code",
   "execution_count": 40,
   "metadata": {},
   "outputs": [
    {
     "output_type": "execute_result",
     "data": {
      "text/plain": [
       "              img                   best_guess_labels  \\\n",
       "0  img/16395.png                    bethany hamilton    \n",
       "1  img/50162.png           diatonic button accordion    \n",
       "2  img/70691.png                          watermelon    \n",
       "3  img/37405.png   lavadora para edredones king size    \n",
       "4  img/73506.png                guerra de afganistan    \n",
       "\n",
       "                                        web_entities  \\\n",
       "0                                  bethany hamilton    \n",
       "1                                          musician    \n",
       "2                            fruit melon watermelon    \n",
       "3  duvet clothes dryer lavanderia self service ma...   \n",
       "4      war in afghanistan afghanistan united states    \n",
       "\n",
       "                                    object_labels  \\\n",
       "0                                person clothing    \n",
       "1                              person microphone    \n",
       "2                                     watermelon    \n",
       "3          washing machine home appliance person    \n",
       "4  footwear clothing pants luggage & bags person    \n",
       "\n",
       "                                        image_labels  \\\n",
       "0  chin long hair face nose eyebrow hair hairstyl...   \n",
       "1  free reed aerophone music artist musician perf...   \n",
       "2  cucumber gourd and melon family watermelon cit...   \n",
       "3  major appliance clothes dryer home appliance l...   \n",
       "4               organism font human text adaptation    \n",
       "\n",
       "                                               texts expressions  \\\n",
       "0                         handjobs sold seperately          joy    \n",
       "1  roses are black violets are black exs everythi...               \n",
       "2                                         overdose                 \n",
       "3            introducing fidget spinner for women.                 \n",
       "4   look your dad fucked goats. i capped him.orry.                 \n",
       "\n",
       "                                   bgl_t  \\\n",
       "0                      bethany hamilton    \n",
       "1             diatonic button accordion    \n",
       "2                            watermelon    \n",
       "3  washing machine for king size duvets    \n",
       "4                    war in afghanistan    \n",
       "\n",
       "                                               topic     id  \\\n",
       "0                               Shark attack victims  16395   \n",
       "1  Accordion - Accordions are a family of box-sha...  50162   \n",
       "2  Watermelon A scrambling and trailing vine in t...  70691   \n",
       "3                                                     37405   \n",
       "4  War in Afghanistan (2001–present) following Un...  73506   \n",
       "\n",
       "                                        frcnn  \n",
       "0                    brown eye , blue ball ,   \n",
       "1                                              \n",
       "2                                large ear ,   \n",
       "3                    white bus , black bus ,   \n",
       "4  blue wall , standing woman , long woman ,   "
      ],
      "text/html": "<div>\n<style scoped>\n    .dataframe tbody tr th:only-of-type {\n        vertical-align: middle;\n    }\n\n    .dataframe tbody tr th {\n        vertical-align: top;\n    }\n\n    .dataframe thead th {\n        text-align: right;\n    }\n</style>\n<table border=\"1\" class=\"dataframe\">\n  <thead>\n    <tr style=\"text-align: right;\">\n      <th></th>\n      <th>img</th>\n      <th>best_guess_labels</th>\n      <th>web_entities</th>\n      <th>object_labels</th>\n      <th>image_labels</th>\n      <th>texts</th>\n      <th>expressions</th>\n      <th>bgl_t</th>\n      <th>topic</th>\n      <th>id</th>\n      <th>frcnn</th>\n    </tr>\n  </thead>\n  <tbody>\n    <tr>\n      <th>0</th>\n      <td>img/16395.png</td>\n      <td>bethany hamilton</td>\n      <td>bethany hamilton</td>\n      <td>person clothing</td>\n      <td>chin long hair face nose eyebrow hair hairstyl...</td>\n      <td>handjobs sold seperately</td>\n      <td>joy</td>\n      <td>bethany hamilton</td>\n      <td>Shark attack victims</td>\n      <td>16395</td>\n      <td>brown eye , blue ball ,</td>\n    </tr>\n    <tr>\n      <th>1</th>\n      <td>img/50162.png</td>\n      <td>diatonic button accordion</td>\n      <td>musician</td>\n      <td>person microphone</td>\n      <td>free reed aerophone music artist musician perf...</td>\n      <td>roses are black violets are black exs everythi...</td>\n      <td></td>\n      <td>diatonic button accordion</td>\n      <td>Accordion - Accordions are a family of box-sha...</td>\n      <td>50162</td>\n      <td></td>\n    </tr>\n    <tr>\n      <th>2</th>\n      <td>img/70691.png</td>\n      <td>watermelon</td>\n      <td>fruit melon watermelon</td>\n      <td>watermelon</td>\n      <td>cucumber gourd and melon family watermelon cit...</td>\n      <td>overdose</td>\n      <td></td>\n      <td>watermelon</td>\n      <td>Watermelon A scrambling and trailing vine in t...</td>\n      <td>70691</td>\n      <td>large ear ,</td>\n    </tr>\n    <tr>\n      <th>3</th>\n      <td>img/37405.png</td>\n      <td>lavadora para edredones king size</td>\n      <td>duvet clothes dryer lavanderia self service ma...</td>\n      <td>washing machine home appliance person</td>\n      <td>major appliance clothes dryer home appliance l...</td>\n      <td>introducing fidget spinner for women.</td>\n      <td></td>\n      <td>washing machine for king size duvets</td>\n      <td></td>\n      <td>37405</td>\n      <td>white bus , black bus ,</td>\n    </tr>\n    <tr>\n      <th>4</th>\n      <td>img/73506.png</td>\n      <td>guerra de afganistan</td>\n      <td>war in afghanistan afghanistan united states</td>\n      <td>footwear clothing pants luggage &amp; bags person</td>\n      <td>organism font human text adaptation</td>\n      <td>look your dad fucked goats. i capped him.orry.</td>\n      <td></td>\n      <td>war in afghanistan</td>\n      <td>War in Afghanistan (2001–present) following Un...</td>\n      <td>73506</td>\n      <td>blue wall , standing woman , long woman ,</td>\n    </tr>\n  </tbody>\n</table>\n</div>"
     },
     "metadata": {},
     "execution_count": 40
    }
   ],
   "source": [
    "vision.head()"
   ]
  },
  {
   "cell_type": "code",
   "execution_count": 41,
   "metadata": {},
   "outputs": [
    {
     "output_type": "execute_result",
     "data": {
      "text/plain": [
       "             img                   best_guess_labels  \\\n",
       "0  img/16395.png                   bethany hamilton    \n",
       "1  img/50162.png          diatonic button accordion    \n",
       "2  img/70691.png                         watermelon    \n",
       "3  img/37405.png  lavadora para edredones king size    \n",
       "4  img/73506.png               guerra de afganistan    \n",
       "\n",
       "                                        web_entities  \\\n",
       "0                                  bethany hamilton    \n",
       "1                                          musician    \n",
       "2                            fruit melon watermelon    \n",
       "3  duvet clothes dryer lavanderia self service ma...   \n",
       "4      war in afghanistan afghanistan united states    \n",
       "\n",
       "                                    object_labels  \\\n",
       "0                                person clothing    \n",
       "1                              person microphone    \n",
       "2                                     watermelon    \n",
       "3          washing machine home appliance person    \n",
       "4  footwear clothing pants luggage & bags person    \n",
       "\n",
       "                                        image_labels  \\\n",
       "0  chin long hair face nose eyebrow hair hairstyl...   \n",
       "1  free reed aerophone music artist musician perf...   \n",
       "2  cucumber gourd and melon family watermelon cit...   \n",
       "3  major appliance clothes dryer home appliance l...   \n",
       "4               organism font human text adaptation    \n",
       "\n",
       "                                               texts expressions  \\\n",
       "0                         handjobs sold seperately          joy    \n",
       "1  roses are black violets are black exs everythi...               \n",
       "2                                         overdose                 \n",
       "3            introducing fidget spinner for women.                 \n",
       "4   look your dad fucked goats. i capped him.orry.                 \n",
       "\n",
       "                                   bgl_t  \\\n",
       "0                      bethany hamilton    \n",
       "1             diatonic button accordion    \n",
       "2                            watermelon    \n",
       "3  washing machine for king size duvets    \n",
       "4                    war in afghanistan    \n",
       "\n",
       "                                               topic     id  \\\n",
       "0                               Shark attack victims  16395   \n",
       "1  Accordion - Accordions are a family of box-sha...  50162   \n",
       "2  Watermelon A scrambling and trailing vine in t...  70691   \n",
       "3                                                     37405   \n",
       "4  War in Afghanistan (2001–present) following Un...  73506   \n",
       "\n",
       "                                        frcnn  \n",
       "0                    brown eye , blue ball ,   \n",
       "1                                              \n",
       "2                                large ear ,   \n",
       "3                    white bus , black bus ,   \n",
       "4  blue wall , standing woman , long woman ,   "
      ],
      "text/html": "<div>\n<style scoped>\n    .dataframe tbody tr th:only-of-type {\n        vertical-align: middle;\n    }\n\n    .dataframe tbody tr th {\n        vertical-align: top;\n    }\n\n    .dataframe thead th {\n        text-align: right;\n    }\n</style>\n<table border=\"1\" class=\"dataframe\">\n  <thead>\n    <tr style=\"text-align: right;\">\n      <th></th>\n      <th>img</th>\n      <th>best_guess_labels</th>\n      <th>web_entities</th>\n      <th>object_labels</th>\n      <th>image_labels</th>\n      <th>texts</th>\n      <th>expressions</th>\n      <th>bgl_t</th>\n      <th>topic</th>\n      <th>id</th>\n      <th>frcnn</th>\n    </tr>\n  </thead>\n  <tbody>\n    <tr>\n      <th>0</th>\n      <td>img/16395.png</td>\n      <td>bethany hamilton</td>\n      <td>bethany hamilton</td>\n      <td>person clothing</td>\n      <td>chin long hair face nose eyebrow hair hairstyl...</td>\n      <td>handjobs sold seperately</td>\n      <td>joy</td>\n      <td>bethany hamilton</td>\n      <td>Shark attack victims</td>\n      <td>16395</td>\n      <td>brown eye , blue ball ,</td>\n    </tr>\n    <tr>\n      <th>1</th>\n      <td>img/50162.png</td>\n      <td>diatonic button accordion</td>\n      <td>musician</td>\n      <td>person microphone</td>\n      <td>free reed aerophone music artist musician perf...</td>\n      <td>roses are black violets are black exs everythi...</td>\n      <td></td>\n      <td>diatonic button accordion</td>\n      <td>Accordion - Accordions are a family of box-sha...</td>\n      <td>50162</td>\n      <td></td>\n    </tr>\n    <tr>\n      <th>2</th>\n      <td>img/70691.png</td>\n      <td>watermelon</td>\n      <td>fruit melon watermelon</td>\n      <td>watermelon</td>\n      <td>cucumber gourd and melon family watermelon cit...</td>\n      <td>overdose</td>\n      <td></td>\n      <td>watermelon</td>\n      <td>Watermelon A scrambling and trailing vine in t...</td>\n      <td>70691</td>\n      <td>large ear ,</td>\n    </tr>\n    <tr>\n      <th>3</th>\n      <td>img/37405.png</td>\n      <td>lavadora para edredones king size</td>\n      <td>duvet clothes dryer lavanderia self service ma...</td>\n      <td>washing machine home appliance person</td>\n      <td>major appliance clothes dryer home appliance l...</td>\n      <td>introducing fidget spinner for women.</td>\n      <td></td>\n      <td>washing machine for king size duvets</td>\n      <td></td>\n      <td>37405</td>\n      <td>white bus , black bus ,</td>\n    </tr>\n    <tr>\n      <th>4</th>\n      <td>img/73506.png</td>\n      <td>guerra de afganistan</td>\n      <td>war in afghanistan afghanistan united states</td>\n      <td>footwear clothing pants luggage &amp; bags person</td>\n      <td>organism font human text adaptation</td>\n      <td>look your dad fucked goats. i capped him.orry.</td>\n      <td></td>\n      <td>war in afghanistan</td>\n      <td>War in Afghanistan (2001–present) following Un...</td>\n      <td>73506</td>\n      <td>blue wall , standing woman , long woman ,</td>\n    </tr>\n  </tbody>\n</table>\n</div>"
     },
     "metadata": {},
     "execution_count": 41
    }
   ],
   "source": [
    "vision.img = vision.img.apply(lambda x:x.strip())\n",
    "vision.head()"
   ]
  },
  {
   "cell_type": "code",
   "execution_count": 42,
   "metadata": {},
   "outputs": [],
   "source": [
    "words_len = 15\n",
    "stop_words = set(stopwords.words('english')) \n",
    "  \n",
    "def reduce_topic(x):\n",
    "\n",
    "    result = \"\"\n",
    "    words = word_tokenize(x)\n",
    "\n",
    "    filtered = []\n",
    "    for w in words: \n",
    "        if w not in stop_words: \n",
    "            filtered.append(w) \n",
    "\n",
    "    for w in filtered[:words_len]:\n",
    "        result += w + \" \"\n",
    "\n",
    "    return result\n",
    "\n",
    "vision.topic = vision.topic.apply(lambda x: reduce_topic(x))"
   ]
  },
  {
   "cell_type": "code",
   "execution_count": 43,
   "metadata": {},
   "outputs": [],
   "source": [
    "sep = ' '\n",
    "vision['g1'] = vision.bgl_t + sep + vision.topic\n",
    "vision['g2'] = vision.bgl_t + sep + vision.web_entities + sep + vision.object_labels + sep + vision.image_labels\n",
    "vision['g3'] = vision.frcnn\n",
    "vision['g4'] = vision.bgl_t + sep + vision.frcnn\n",
    "vision['g5'] = vision.bgl_t + sep + vision.web_entities + sep + vision.object_labels + sep + vision.image_labels + sep + vision.frcnn # best\n",
    "vision['g6'] = vision.bgl_t + sep +  vision.expressions + sep + vision.web_entities + sep + vision.object_labels + sep + vision.image_labels + sep + vision.frcnn\n",
    "vision['g7'] = vision.bgl_t + sep + vision.topic + sep + vision.web_entities + sep + vision.object_labels + sep + vision.image_labels + sep + vision.frcnn "
   ]
  },
  {
   "cell_type": "code",
   "execution_count": 44,
   "metadata": {},
   "outputs": [
    {
     "output_type": "execute_result",
     "data": {
      "text/plain": [
       "             img                   best_guess_labels  \\\n",
       "0  img/16395.png                   bethany hamilton    \n",
       "1  img/50162.png          diatonic button accordion    \n",
       "2  img/70691.png                         watermelon    \n",
       "3  img/37405.png  lavadora para edredones king size    \n",
       "4  img/73506.png               guerra de afganistan    \n",
       "\n",
       "                                        web_entities  \\\n",
       "0                                  bethany hamilton    \n",
       "1                                          musician    \n",
       "2                            fruit melon watermelon    \n",
       "3  duvet clothes dryer lavanderia self service ma...   \n",
       "4      war in afghanistan afghanistan united states    \n",
       "\n",
       "                                    object_labels  \\\n",
       "0                                person clothing    \n",
       "1                              person microphone    \n",
       "2                                     watermelon    \n",
       "3          washing machine home appliance person    \n",
       "4  footwear clothing pants luggage & bags person    \n",
       "\n",
       "                                        image_labels  \\\n",
       "0  chin long hair face nose eyebrow hair hairstyl...   \n",
       "1  free reed aerophone music artist musician perf...   \n",
       "2  cucumber gourd and melon family watermelon cit...   \n",
       "3  major appliance clothes dryer home appliance l...   \n",
       "4               organism font human text adaptation    \n",
       "\n",
       "                                               texts expressions  \\\n",
       "0                         handjobs sold seperately          joy    \n",
       "1  roses are black violets are black exs everythi...               \n",
       "2                                         overdose                 \n",
       "3            introducing fidget spinner for women.                 \n",
       "4   look your dad fucked goats. i capped him.orry.                 \n",
       "\n",
       "                                   bgl_t  \\\n",
       "0                      bethany hamilton    \n",
       "1             diatonic button accordion    \n",
       "2                            watermelon    \n",
       "3  washing machine for king size duvets    \n",
       "4                    war in afghanistan    \n",
       "\n",
       "                                               topic     id  \\\n",
       "0                              Shark attack victims   16395   \n",
       "1  Accordion - Accordions family box-shaped music...  50162   \n",
       "2  Watermelon A scrambling trailing vine flowerin...  70691   \n",
       "3                                                     37405   \n",
       "4  War Afghanistan ( 2001–present ) following Uni...  73506   \n",
       "\n",
       "                                        frcnn  \\\n",
       "0                    brown eye , blue ball ,    \n",
       "1                                               \n",
       "2                                large ear ,    \n",
       "3                    white bus , black bus ,    \n",
       "4  blue wall , standing woman , long woman ,    \n",
       "\n",
       "                                                  g1  \\\n",
       "0            bethany hamilton  Shark attack victims    \n",
       "1  diatonic button accordion  Accordion - Accordi...   \n",
       "2  watermelon  Watermelon A scrambling trailing v...   \n",
       "3             washing machine for king size duvets     \n",
       "4  war in afghanistan  War Afghanistan ( 2001–pre...   \n",
       "\n",
       "                                                  g2  \\\n",
       "0  bethany hamilton   bethany hamilton  person cl...   \n",
       "1  diatonic button accordion  musician  person mi...   \n",
       "2  watermelon  fruit melon watermelon  watermelon...   \n",
       "3  washing machine for king size duvets  duvet cl...   \n",
       "4  war in afghanistan  war in afghanistan afghani...   \n",
       "\n",
       "                                           g3  \\\n",
       "0                    brown eye , blue ball ,    \n",
       "1                                               \n",
       "2                                large ear ,    \n",
       "3                    white bus , black bus ,    \n",
       "4  blue wall , standing woman , long woman ,    \n",
       "\n",
       "                                                  g4  \\\n",
       "0         bethany hamilton  brown eye , blue ball ,    \n",
       "1                        diatonic button accordion     \n",
       "2                           watermelon  large ear ,    \n",
       "3  washing machine for king size duvets  white bu...   \n",
       "4  war in afghanistan  blue wall , standing woman...   \n",
       "\n",
       "                                                  g5  \\\n",
       "0  bethany hamilton   bethany hamilton  person cl...   \n",
       "1  diatonic button accordion  musician  person mi...   \n",
       "2  watermelon  fruit melon watermelon  watermelon...   \n",
       "3  washing machine for king size duvets  duvet cl...   \n",
       "4  war in afghanistan  war in afghanistan afghani...   \n",
       "\n",
       "                                                  g6  \\\n",
       "0  bethany hamilton  joy   bethany hamilton  pers...   \n",
       "1  diatonic button accordion    musician  person ...   \n",
       "2  watermelon    fruit melon watermelon  watermel...   \n",
       "3  washing machine for king size duvets    duvet ...   \n",
       "4  war in afghanistan    war in afghanistan afgha...   \n",
       "\n",
       "                                                  g7  \n",
       "0  bethany hamilton  Shark attack victims   betha...  \n",
       "1  diatonic button accordion  Accordion - Accordi...  \n",
       "2  watermelon  Watermelon A scrambling trailing v...  \n",
       "3  washing machine for king size duvets   duvet c...  \n",
       "4  war in afghanistan  War Afghanistan ( 2001–pre...  "
      ],
      "text/html": "<div>\n<style scoped>\n    .dataframe tbody tr th:only-of-type {\n        vertical-align: middle;\n    }\n\n    .dataframe tbody tr th {\n        vertical-align: top;\n    }\n\n    .dataframe thead th {\n        text-align: right;\n    }\n</style>\n<table border=\"1\" class=\"dataframe\">\n  <thead>\n    <tr style=\"text-align: right;\">\n      <th></th>\n      <th>img</th>\n      <th>best_guess_labels</th>\n      <th>web_entities</th>\n      <th>object_labels</th>\n      <th>image_labels</th>\n      <th>texts</th>\n      <th>expressions</th>\n      <th>bgl_t</th>\n      <th>topic</th>\n      <th>id</th>\n      <th>frcnn</th>\n      <th>g1</th>\n      <th>g2</th>\n      <th>g3</th>\n      <th>g4</th>\n      <th>g5</th>\n      <th>g6</th>\n      <th>g7</th>\n    </tr>\n  </thead>\n  <tbody>\n    <tr>\n      <th>0</th>\n      <td>img/16395.png</td>\n      <td>bethany hamilton</td>\n      <td>bethany hamilton</td>\n      <td>person clothing</td>\n      <td>chin long hair face nose eyebrow hair hairstyl...</td>\n      <td>handjobs sold seperately</td>\n      <td>joy</td>\n      <td>bethany hamilton</td>\n      <td>Shark attack victims</td>\n      <td>16395</td>\n      <td>brown eye , blue ball ,</td>\n      <td>bethany hamilton  Shark attack victims</td>\n      <td>bethany hamilton   bethany hamilton  person cl...</td>\n      <td>brown eye , blue ball ,</td>\n      <td>bethany hamilton  brown eye , blue ball ,</td>\n      <td>bethany hamilton   bethany hamilton  person cl...</td>\n      <td>bethany hamilton  joy   bethany hamilton  pers...</td>\n      <td>bethany hamilton  Shark attack victims   betha...</td>\n    </tr>\n    <tr>\n      <th>1</th>\n      <td>img/50162.png</td>\n      <td>diatonic button accordion</td>\n      <td>musician</td>\n      <td>person microphone</td>\n      <td>free reed aerophone music artist musician perf...</td>\n      <td>roses are black violets are black exs everythi...</td>\n      <td></td>\n      <td>diatonic button accordion</td>\n      <td>Accordion - Accordions family box-shaped music...</td>\n      <td>50162</td>\n      <td></td>\n      <td>diatonic button accordion  Accordion - Accordi...</td>\n      <td>diatonic button accordion  musician  person mi...</td>\n      <td></td>\n      <td>diatonic button accordion</td>\n      <td>diatonic button accordion  musician  person mi...</td>\n      <td>diatonic button accordion    musician  person ...</td>\n      <td>diatonic button accordion  Accordion - Accordi...</td>\n    </tr>\n    <tr>\n      <th>2</th>\n      <td>img/70691.png</td>\n      <td>watermelon</td>\n      <td>fruit melon watermelon</td>\n      <td>watermelon</td>\n      <td>cucumber gourd and melon family watermelon cit...</td>\n      <td>overdose</td>\n      <td></td>\n      <td>watermelon</td>\n      <td>Watermelon A scrambling trailing vine flowerin...</td>\n      <td>70691</td>\n      <td>large ear ,</td>\n      <td>watermelon  Watermelon A scrambling trailing v...</td>\n      <td>watermelon  fruit melon watermelon  watermelon...</td>\n      <td>large ear ,</td>\n      <td>watermelon  large ear ,</td>\n      <td>watermelon  fruit melon watermelon  watermelon...</td>\n      <td>watermelon    fruit melon watermelon  watermel...</td>\n      <td>watermelon  Watermelon A scrambling trailing v...</td>\n    </tr>\n    <tr>\n      <th>3</th>\n      <td>img/37405.png</td>\n      <td>lavadora para edredones king size</td>\n      <td>duvet clothes dryer lavanderia self service ma...</td>\n      <td>washing machine home appliance person</td>\n      <td>major appliance clothes dryer home appliance l...</td>\n      <td>introducing fidget spinner for women.</td>\n      <td></td>\n      <td>washing machine for king size duvets</td>\n      <td></td>\n      <td>37405</td>\n      <td>white bus , black bus ,</td>\n      <td>washing machine for king size duvets</td>\n      <td>washing machine for king size duvets  duvet cl...</td>\n      <td>white bus , black bus ,</td>\n      <td>washing machine for king size duvets  white bu...</td>\n      <td>washing machine for king size duvets  duvet cl...</td>\n      <td>washing machine for king size duvets    duvet ...</td>\n      <td>washing machine for king size duvets   duvet c...</td>\n    </tr>\n    <tr>\n      <th>4</th>\n      <td>img/73506.png</td>\n      <td>guerra de afganistan</td>\n      <td>war in afghanistan afghanistan united states</td>\n      <td>footwear clothing pants luggage &amp; bags person</td>\n      <td>organism font human text adaptation</td>\n      <td>look your dad fucked goats. i capped him.orry.</td>\n      <td></td>\n      <td>war in afghanistan</td>\n      <td>War Afghanistan ( 2001–present ) following Uni...</td>\n      <td>73506</td>\n      <td>blue wall , standing woman , long woman ,</td>\n      <td>war in afghanistan  War Afghanistan ( 2001–pre...</td>\n      <td>war in afghanistan  war in afghanistan afghani...</td>\n      <td>blue wall , standing woman , long woman ,</td>\n      <td>war in afghanistan  blue wall , standing woman...</td>\n      <td>war in afghanistan  war in afghanistan afghani...</td>\n      <td>war in afghanistan    war in afghanistan afgha...</td>\n      <td>war in afghanistan  War Afghanistan ( 2001–pre...</td>\n    </tr>\n  </tbody>\n</table>\n</div>"
     },
     "metadata": {},
     "execution_count": 44
    }
   ],
   "source": [
    "vision.head()"
   ]
  },
  {
   "cell_type": "code",
   "execution_count": 45,
   "metadata": {},
   "outputs": [
    {
     "output_type": "execute_result",
     "data": {
      "text/plain": [
       "'people who have died of laughter   death from laughter laughter humour joke  glasses person  human people facial expression adaptation friendship font smile happy text  young man , black hair , white man , gray,grey man , '"
      ]
     },
     "metadata": {},
     "execution_count": 45
    }
   ],
   "source": [
    "vision.g7.values[7]"
   ]
  },
  {
   "cell_type": "code",
   "execution_count": 46,
   "metadata": {},
   "outputs": [],
   "source": [
    "vision.to_csv('../data/processed/vision.csv',index=False)"
   ]
  },
  {
   "cell_type": "code",
   "execution_count": null,
   "metadata": {},
   "outputs": [],
   "source": []
  }
 ]
}