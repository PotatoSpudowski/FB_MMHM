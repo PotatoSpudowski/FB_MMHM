{
 "metadata": {
  "language_info": {
   "codemirror_mode": {
    "name": "ipython",
    "version": 3
   },
   "file_extension": ".py",
   "mimetype": "text/x-python",
   "name": "python",
   "nbconvert_exporter": "python",
   "pygments_lexer": "ipython3",
   "version": "3.7.6-final"
  },
  "orig_nbformat": 2,
  "kernelspec": {
   "name": "python3",
   "display_name": "Python 3.7.6 64-bit ('env')",
   "metadata": {
    "interpreter": {
     "hash": "c292faa64a06b85ee29012afc185ba9a6fb4d4e01057ca1d6e17bce0ce64ff1f"
    }
   }
  }
 },
 "nbformat": 4,
 "nbformat_minor": 2,
 "cells": [
  {
   "cell_type": "code",
   "execution_count": 1,
   "metadata": {},
   "outputs": [],
   "source": [
    "import pandas as pd\n",
    "\n",
    "from sklearn.model_selection import StratifiedKFold\n",
    "\n",
    "import collections\n",
    "\n",
    "import os"
   ]
  },
  {
   "cell_type": "code",
   "execution_count": 2,
   "metadata": {},
   "outputs": [],
   "source": [
    "train = pd.read_json('../data/raw/train.jsonl', lines=True)\n",
    "dev = pd.read_json('../data/raw/dev_unseen.jsonl', lines=True)\n",
    "test = pd.read_json('../data/raw/test_unseen.jsonl', lines=True)\n",
    "\n",
    "vision = pd.read_csv('../data/processed/vision2.csv').drop('id',axis=1)"
   ]
  },
  {
   "cell_type": "code",
   "execution_count": 3,
   "metadata": {},
   "outputs": [],
   "source": [
    "train = pd.merge(train,vision,how='left',on='img')\n",
    "dev = pd.merge(dev,vision,how='left',on='img')\n",
    "test = pd.merge(test,vision,how='left',on='img')"
   ]
  },
  {
   "source": [
    "### Just one fold (normal train/dev)"
   ],
   "cell_type": "markdown",
   "metadata": {}
  },
  {
   "cell_type": "code",
   "execution_count": 5,
   "metadata": {},
   "outputs": [],
   "source": [
    "# K = 1 normal dev\n",
    "K = 1\n",
    "i = 0\n",
    "\n",
    "path = '../data/folds/'+str(K)\n",
    "os.makedirs(path)\n",
    "\n",
    "y_t = train['label']\n",
    "X_t = train.drop('label',axis=1,inplace=False)\n",
    "\n",
    "y_d = dev['label']\n",
    "X_d = dev.drop('label',axis=1,inplace=False)\n",
    "\n",
    "X_t.to_csv(path+'/X_train_split_'+str(i+1)+'.csv',index=False)\n",
    "X_d.to_csv(path+'/X_dev_split_'+str(i+1)+'.csv',index=False)\n",
    "y_t.to_csv(path+'/y_train_split_'+str(i+1)+'.csv',index=False)\n",
    "y_d.to_csv(path+'/y_dev_split_'+str(i+1)+'.csv',index=False)\n",
    "\n",
    "test.to_csv(path+'/X_test.csv',index=False)"
   ]
  },
  {
   "source": [
    "### KFOLD"
   ],
   "cell_type": "markdown",
   "metadata": {}
  },
  {
   "cell_type": "code",
   "execution_count": 6,
   "metadata": {},
   "outputs": [],
   "source": [
    "train = pd.concat([train,dev],axis=0)"
   ]
  },
  {
   "cell_type": "code",
   "execution_count": 8,
   "metadata": {},
   "outputs": [
    {
     "output_type": "stream",
     "name": "stdout",
     "text": [
      "K =  5\n",
      "--------FOLD  0\n",
      "--------FOLD  1\n",
      "--------FOLD  2\n",
      "--------FOLD  3\n",
      "--------FOLD  4\n",
      "K =  10\n",
      "--------FOLD  0\n",
      "--------FOLD  1\n",
      "--------FOLD  2\n",
      "--------FOLD  3\n",
      "--------FOLD  4\n",
      "--------FOLD  5\n",
      "--------FOLD  6\n",
      "--------FOLD  7\n",
      "--------FOLD  8\n",
      "--------FOLD  9\n"
     ]
    }
   ],
   "source": [
    "K = [5,10]\n",
    "\n",
    "y = train['label']\n",
    "X = train.drop('label',axis=1,inplace=False)\n",
    "\n",
    "for k in K:\n",
    "    print('K = ',k)\n",
    "\n",
    "    path = '../data/folds/'+str(k)\n",
    "    os.makedirs(path)\n",
    "\n",
    "    sss = StratifiedKFold(n_splits=k, random_state=420,shuffle=True)\n",
    "\n",
    "    for i, (train_index, dev_index) in enumerate(sss.split(X,y)):\n",
    "        print('--------FOLD ',i)\n",
    "        X_t, X_d = X.iloc[train_index], X.iloc[dev_index]\n",
    "        y_t, y_d = y.iloc[train_index], y.iloc[dev_index]\n",
    "\n",
    "        X_t.to_csv(path+'/X_train_split_'+str(i+1)+'.csv',index=False)\n",
    "        X_d.to_csv(path+'/X_dev_split_'+str(i+1)+'.csv',index=False)\n",
    "        y_t.to_csv(path+'/y_train_split_'+str(i+1)+'.csv',index=False)\n",
    "        y_d.to_csv(path+'/y_dev_split_'+str(i+1)+'.csv',index=False)\n",
    "\n",
    "    test.to_csv(path+'/X_test.csv',index=False)"
   ]
  },
  {
   "cell_type": "code",
   "execution_count": null,
   "metadata": {},
   "outputs": [],
   "source": []
  }
 ]
}