{
 "metadata": {
  "language_info": {
   "codemirror_mode": {
    "name": "ipython",
    "version": 3
   },
   "file_extension": ".py",
   "mimetype": "text/x-python",
   "name": "python",
   "nbconvert_exporter": "python",
   "pygments_lexer": "ipython3",
   "version": "3.8.2-final"
  },
  "orig_nbformat": 2,
  "kernelspec": {
   "name": "Python 3.8.2 64-bit ('env')",
   "display_name": "Python 3.8.2 64-bit ('env')",
   "metadata": {
    "interpreter": {
     "hash": "0317cb30a5bd004b1ce0f6ad24cf986ce82144a991c54f23970907064da23cd2"
    }
   }
  }
 },
 "nbformat": 4,
 "nbformat_minor": 2,
 "cells": [
  {
   "cell_type": "code",
   "execution_count": 1,
   "metadata": {},
   "outputs": [],
   "source": [
    "import pandas as pd \n",
    "\n",
    "from googletrans import Translator\n",
    "translator = Translator()\n",
    "from langdetect import detect\n",
    "\n",
    "import nltk\n",
    "import unidecode\n",
    "\n",
    "from tqdm.notebook import tqdm\n",
    "import os\n",
    "import requests"
   ]
  },
  {
   "cell_type": "code",
   "execution_count": 2,
   "metadata": {},
   "outputs": [],
   "source": [
    "def clean_text(s):\n",
    "    return s.str.lower().str.replace('[','').str.replace(']','').str.replace('\\'','').apply(lambda x: unidecode.unidecode(x))"
   ]
  },
  {
   "cell_type": "code",
   "execution_count": 3,
   "metadata": {},
   "outputs": [],
   "source": [
    "def rm_tokens(tokens_to_remove,s):\n",
    "    words = s.replace(',','').split(sep=' ')\n",
    "    result = \"\"\n",
    "    for w in words:\n",
    "        if not(w in tokens_to_remove):\n",
    "            result+=str(w+\" \")\n",
    "    return result"
   ]
  },
  {
   "cell_type": "code",
   "execution_count": 26,
   "metadata": {},
   "outputs": [],
   "source": [
    "def getContext(query):\n",
    "    \n",
    "    url = \"https://api.duckduckgo.com/\"\n",
    "    params = {\n",
    "        \"q\":query,\n",
    "        \"format\":\"json\",\n",
    "        \"pretty\":1\n",
    "    }\n",
    "    abstract = \"\"\n",
    "    heading = \"\"\n",
    "    topic = \"\"\n",
    "\n",
    "    try:\n",
    "        x = requests.get(url, params=params)\n",
    "        if x.status_code == 200:\n",
    "            data = x.json()\n",
    "            abtract = data['AbstractText']\n",
    "            topic = data['Heading']\n",
    "            if len(data[\"RelatedTopics\"]) > 0:\n",
    "                topic = data[\"RelatedTopics\"][0]['Text'] \n",
    "\n",
    "    except:\n",
    "        return \"\", \"\", \"\"\n",
    "\n",
    "    return abstract,heading,topic"
   ]
  },
  {
   "cell_type": "code",
   "execution_count": 5,
   "metadata": {},
   "outputs": [],
   "source": [
    "vision = pd.read_csv('../data/external/google_vision.csv',index_col=0)\n",
    "vision.fillna('',inplace=True)"
   ]
  },
  {
   "cell_type": "code",
   "execution_count": 6,
   "metadata": {},
   "outputs": [
    {
     "output_type": "stream",
     "name": "stdout",
     "text": [
      "(12140, 7)\n"
     ]
    },
    {
     "output_type": "execute_result",
     "data": {
      "text/plain": [
       "             img              best_guess_labels  \\\n",
       "0  img/16395.png           ['bethany hamilton']   \n",
       "1  img/50162.png  ['diatonic button accordion']   \n",
       "2  img/70691.png                 ['watermelon']   \n",
       "\n",
       "                       web_entities             object_labels  \\\n",
       "0          ['', 'Bethany Hamilton']    ['Person', 'Clothing']   \n",
       "1                      ['Musician']  ['Person', 'Microphone']   \n",
       "2  ['Fruit', 'Melon', 'Watermelon']            ['Watermelon']   \n",
       "\n",
       "                                        image_labels  \\\n",
       "0  ['Chin', 'Long hair', 'Photo caption', 'Face',...   \n",
       "1  ['Free reed aerophone', 'Music artist', 'Music...   \n",
       "2  ['Cucumber, gourd, and melon family', 'Waterme...   \n",
       "\n",
       "                                               texts expressions  \n",
       "0                ['handjobs', 'sold seperatelý', '']     ['joy']  \n",
       "1  ['roses are black,', 'violets are black', 'EXS...          []  \n",
       "2                                   ['overdose', '']          []  "
      ],
      "text/html": "<div>\n<style scoped>\n    .dataframe tbody tr th:only-of-type {\n        vertical-align: middle;\n    }\n\n    .dataframe tbody tr th {\n        vertical-align: top;\n    }\n\n    .dataframe thead th {\n        text-align: right;\n    }\n</style>\n<table border=\"1\" class=\"dataframe\">\n  <thead>\n    <tr style=\"text-align: right;\">\n      <th></th>\n      <th>img</th>\n      <th>best_guess_labels</th>\n      <th>web_entities</th>\n      <th>object_labels</th>\n      <th>image_labels</th>\n      <th>texts</th>\n      <th>expressions</th>\n    </tr>\n  </thead>\n  <tbody>\n    <tr>\n      <th>0</th>\n      <td>img/16395.png</td>\n      <td>['bethany hamilton']</td>\n      <td>['', 'Bethany Hamilton']</td>\n      <td>['Person', 'Clothing']</td>\n      <td>['Chin', 'Long hair', 'Photo caption', 'Face',...</td>\n      <td>['handjobs', 'sold seperatelý', '']</td>\n      <td>['joy']</td>\n    </tr>\n    <tr>\n      <th>1</th>\n      <td>img/50162.png</td>\n      <td>['diatonic button accordion']</td>\n      <td>['Musician']</td>\n      <td>['Person', 'Microphone']</td>\n      <td>['Free reed aerophone', 'Music artist', 'Music...</td>\n      <td>['roses are black,', 'violets are black', 'EXS...</td>\n      <td>[]</td>\n    </tr>\n    <tr>\n      <th>2</th>\n      <td>img/70691.png</td>\n      <td>['watermelon']</td>\n      <td>['Fruit', 'Melon', 'Watermelon']</td>\n      <td>['Watermelon']</td>\n      <td>['Cucumber, gourd, and melon family', 'Waterme...</td>\n      <td>['overdose', '']</td>\n      <td>[]</td>\n    </tr>\n  </tbody>\n</table>\n</div>"
     },
     "metadata": {},
     "execution_count": 6
    }
   ],
   "source": [
    "print(vision.shape)\n",
    "vision.head(3)"
   ]
  },
  {
   "cell_type": "code",
   "execution_count": 7,
   "metadata": {},
   "outputs": [
    {
     "output_type": "execute_result",
     "data": {
      "text/plain": [
       "             img          best_guess_labels              web_entities  \\\n",
       "0  img/16395.png           bethany hamilton        , bethany hamilton   \n",
       "1  img/50162.png  diatonic button accordion                  musician   \n",
       "2  img/70691.png                 watermelon  fruit, melon, watermelon   \n",
       "\n",
       "        object_labels                                       image_labels  \\\n",
       "0    person, clothing  chin, long hair, photo caption, face, nose, ey...   \n",
       "1  person, microphone  free reed aerophone, music artist, musician, p...   \n",
       "2          watermelon  cucumber, gourd, and melon family, watermelon,...   \n",
       "\n",
       "                                               texts expressions  \n",
       "0                        handjobs, sold seperately,          joy  \n",
       "1  roses are black,, violets are black, exs, ever...              \n",
       "2                                         overdose,               "
      ],
      "text/html": "<div>\n<style scoped>\n    .dataframe tbody tr th:only-of-type {\n        vertical-align: middle;\n    }\n\n    .dataframe tbody tr th {\n        vertical-align: top;\n    }\n\n    .dataframe thead th {\n        text-align: right;\n    }\n</style>\n<table border=\"1\" class=\"dataframe\">\n  <thead>\n    <tr style=\"text-align: right;\">\n      <th></th>\n      <th>img</th>\n      <th>best_guess_labels</th>\n      <th>web_entities</th>\n      <th>object_labels</th>\n      <th>image_labels</th>\n      <th>texts</th>\n      <th>expressions</th>\n    </tr>\n  </thead>\n  <tbody>\n    <tr>\n      <th>0</th>\n      <td>img/16395.png</td>\n      <td>bethany hamilton</td>\n      <td>, bethany hamilton</td>\n      <td>person, clothing</td>\n      <td>chin, long hair, photo caption, face, nose, ey...</td>\n      <td>handjobs, sold seperately,</td>\n      <td>joy</td>\n    </tr>\n    <tr>\n      <th>1</th>\n      <td>img/50162.png</td>\n      <td>diatonic button accordion</td>\n      <td>musician</td>\n      <td>person, microphone</td>\n      <td>free reed aerophone, music artist, musician, p...</td>\n      <td>roses are black,, violets are black, exs, ever...</td>\n      <td></td>\n    </tr>\n    <tr>\n      <th>2</th>\n      <td>img/70691.png</td>\n      <td>watermelon</td>\n      <td>fruit, melon, watermelon</td>\n      <td>watermelon</td>\n      <td>cucumber, gourd, and melon family, watermelon,...</td>\n      <td>overdose,</td>\n      <td></td>\n    </tr>\n  </tbody>\n</table>\n</div>"
     },
     "metadata": {},
     "execution_count": 7
    }
   ],
   "source": [
    "# CLEAN\n",
    "colnames = vision.columns\n",
    "for col in colnames:\n",
    "    vision[[col]] = vision[[col]].apply(lambda x: clean_text(x))\n",
    "vision.head(3)"
   ]
  },
  {
   "cell_type": "code",
   "execution_count": 8,
   "metadata": {},
   "outputs": [
    {
     "output_type": "display_data",
     "data": {
      "text/plain": "HBox(children=(HTML(value=''), FloatProgress(value=0.0, max=12140.0), HTML(value='')))",
      "application/vnd.jupyter.widget-view+json": {
       "version_major": 2,
       "version_minor": 0,
       "model_id": "7b82abd327ab453bbbf504b76e37eafd"
      }
     },
     "metadata": {}
    },
    {
     "output_type": "stream",
     "name": "stdout",
     "text": [
      "\n"
     ]
    },
    {
     "output_type": "execute_result",
     "data": {
      "text/plain": [
       "             img          best_guess_labels              web_entities  \\\n",
       "0  img/16395.png           bethany hamilton        , bethany hamilton   \n",
       "1  img/50162.png  diatonic button accordion                  musician   \n",
       "2  img/70691.png                 watermelon  fruit, melon, watermelon   \n",
       "\n",
       "        object_labels                                       image_labels  \\\n",
       "0    person, clothing  chin, long hair, photo caption, face, nose, ey...   \n",
       "1  person, microphone  free reed aerophone, music artist, musician, p...   \n",
       "2          watermelon  cucumber, gourd, and melon family, watermelon,...   \n",
       "\n",
       "                                               texts expressions  \\\n",
       "0                        handjobs, sold seperately,          joy   \n",
       "1  roses are black,, violets are black, exs, ever...               \n",
       "2                                         overdose,                \n",
       "\n",
       "                       bgl_t  \n",
       "0           bethany hamilton  \n",
       "1  diatonic button accordion  \n",
       "2                 watermelon  "
      ],
      "text/html": "<div>\n<style scoped>\n    .dataframe tbody tr th:only-of-type {\n        vertical-align: middle;\n    }\n\n    .dataframe tbody tr th {\n        vertical-align: top;\n    }\n\n    .dataframe thead th {\n        text-align: right;\n    }\n</style>\n<table border=\"1\" class=\"dataframe\">\n  <thead>\n    <tr style=\"text-align: right;\">\n      <th></th>\n      <th>img</th>\n      <th>best_guess_labels</th>\n      <th>web_entities</th>\n      <th>object_labels</th>\n      <th>image_labels</th>\n      <th>texts</th>\n      <th>expressions</th>\n      <th>bgl_t</th>\n    </tr>\n  </thead>\n  <tbody>\n    <tr>\n      <th>0</th>\n      <td>img/16395.png</td>\n      <td>bethany hamilton</td>\n      <td>, bethany hamilton</td>\n      <td>person, clothing</td>\n      <td>chin, long hair, photo caption, face, nose, ey...</td>\n      <td>handjobs, sold seperately,</td>\n      <td>joy</td>\n      <td>bethany hamilton</td>\n    </tr>\n    <tr>\n      <th>1</th>\n      <td>img/50162.png</td>\n      <td>diatonic button accordion</td>\n      <td>musician</td>\n      <td>person, microphone</td>\n      <td>free reed aerophone, music artist, musician, p...</td>\n      <td>roses are black,, violets are black, exs, ever...</td>\n      <td></td>\n      <td>diatonic button accordion</td>\n    </tr>\n    <tr>\n      <th>2</th>\n      <td>img/70691.png</td>\n      <td>watermelon</td>\n      <td>fruit, melon, watermelon</td>\n      <td>watermelon</td>\n      <td>cucumber, gourd, and melon family, watermelon,...</td>\n      <td>overdose,</td>\n      <td></td>\n      <td>watermelon</td>\n    </tr>\n  </tbody>\n</table>\n</div>"
     },
     "metadata": {},
     "execution_count": 8
    }
   ],
   "source": [
    "# TRANSLATE\n",
    "vision.fillna(\"\",inplace=True)\n",
    "result = []\n",
    "\n",
    "for i in tqdm(range(0,vision.shape[0]),total=vision.shape[0]):\n",
    "    s = vision.best_guess_labels[i]\n",
    "    try:\n",
    "        code = detect(s)\n",
    "    except:\n",
    "        code = 'unk'\n",
    "    if code != 'en':\n",
    "        try:\n",
    "            tr = translator.translate(s,dest='en').text\n",
    "        except:\n",
    "            tr = s\n",
    "    else:\n",
    "        tr = s\n",
    "    result.append(tr)\n",
    "\n",
    "vision['bgl_t'] = result\n",
    "vision.head(3)"
   ]
  },
  {
   "cell_type": "code",
   "execution_count": 9,
   "metadata": {},
   "outputs": [
    {
     "output_type": "stream",
     "name": "stdout",
     "text": [
      "Unique tokens:  5280\n"
     ]
    }
   ],
   "source": [
    "# COUNT AND CLEAN BGL_T\n",
    "corpus = nltk.word_tokenize(vision.bgl_t.str.cat(sep=' '))\n",
    "fd = nltk.FreqDist(corpus)\n",
    "fd_df = pd.DataFrame(fd.items(), columns=['word', 'frequency']).sort_values('frequency',ascending=False)\n",
    "print('Unique tokens: ',len(fd))"
   ]
  },
  {
   "cell_type": "code",
   "execution_count": 10,
   "metadata": {},
   "outputs": [
    {
     "output_type": "execute_result",
     "data": {
      "text/plain": [
       "       word  frequency\n",
       "28    photo       1008\n",
       "29  caption       1001\n",
       "27    funny        628\n",
       "85      cat        325\n",
       "24   hitler        308"
      ],
      "text/html": "<div>\n<style scoped>\n    .dataframe tbody tr th:only-of-type {\n        vertical-align: middle;\n    }\n\n    .dataframe tbody tr th {\n        vertical-align: top;\n    }\n\n    .dataframe thead th {\n        text-align: right;\n    }\n</style>\n<table border=\"1\" class=\"dataframe\">\n  <thead>\n    <tr style=\"text-align: right;\">\n      <th></th>\n      <th>word</th>\n      <th>frequency</th>\n    </tr>\n  </thead>\n  <tbody>\n    <tr>\n      <th>28</th>\n      <td>photo</td>\n      <td>1008</td>\n    </tr>\n    <tr>\n      <th>29</th>\n      <td>caption</td>\n      <td>1001</td>\n    </tr>\n    <tr>\n      <th>27</th>\n      <td>funny</td>\n      <td>628</td>\n    </tr>\n    <tr>\n      <th>85</th>\n      <td>cat</td>\n      <td>325</td>\n    </tr>\n    <tr>\n      <th>24</th>\n      <td>hitler</td>\n      <td>308</td>\n    </tr>\n  </tbody>\n</table>\n</div>"
     },
     "metadata": {},
     "execution_count": 10
    }
   ],
   "source": [
    "fd_df.head()"
   ]
  },
  {
   "cell_type": "code",
   "execution_count": 11,
   "metadata": {},
   "outputs": [
    {
     "output_type": "stream",
     "name": "stdout",
     "text": [
      "Tok to remove:  9\n"
     ]
    }
   ],
   "source": [
    "tokens_to_remove = set([\n",
    "    'photo',\n",
    "    'caption',\n",
    "    'photography',\n",
    "    'stock',\n",
    "    'poster',\n",
    "    'meme',\n",
    "    '``',\n",
    "    'photograph',\n",
    "    'cartoon',\n",
    "    ])\n",
    "print('Tok to remove: ', len(tokens_to_remove))"
   ]
  },
  {
   "cell_type": "code",
   "execution_count": 12,
   "metadata": {},
   "outputs": [
    {
     "output_type": "display_data",
     "data": {
      "text/plain": "HBox(children=(HTML(value=''), FloatProgress(value=0.0, max=12140.0), HTML(value='')))",
      "application/vnd.jupyter.widget-view+json": {
       "version_major": 2,
       "version_minor": 0,
       "model_id": "05c0804b156d4654abafe8f31ac21762"
      }
     },
     "metadata": {}
    },
    {
     "output_type": "stream",
     "name": "stdout",
     "text": [
      "\n"
     ]
    },
    {
     "output_type": "execute_result",
     "data": {
      "text/plain": [
       "              img           best_guess_labels             web_entities  \\\n",
       "0  img/16395.png            bethany hamilton         bethany hamilton    \n",
       "1  img/50162.png   diatonic button accordion                 musician    \n",
       "2  img/70691.png                  watermelon   fruit melon watermelon    \n",
       "\n",
       "        object_labels                                       image_labels  \\\n",
       "0    person clothing   chin long hair face nose eyebrow hair hairstyl...   \n",
       "1  person microphone   free reed aerophone music artist musician perf...   \n",
       "2         watermelon   cucumber gourd and melon family watermelon cit...   \n",
       "\n",
       "                                               texts expressions  \\\n",
       "0                         handjobs sold seperately          joy    \n",
       "1  roses are black violets are black exs everythi...               \n",
       "2                                         overdose                 \n",
       "\n",
       "                        bgl_t  \n",
       "0           bethany hamilton   \n",
       "1  diatonic button accordion   \n",
       "2                 watermelon   "
      ],
      "text/html": "<div>\n<style scoped>\n    .dataframe tbody tr th:only-of-type {\n        vertical-align: middle;\n    }\n\n    .dataframe tbody tr th {\n        vertical-align: top;\n    }\n\n    .dataframe thead th {\n        text-align: right;\n    }\n</style>\n<table border=\"1\" class=\"dataframe\">\n  <thead>\n    <tr style=\"text-align: right;\">\n      <th></th>\n      <th>img</th>\n      <th>best_guess_labels</th>\n      <th>web_entities</th>\n      <th>object_labels</th>\n      <th>image_labels</th>\n      <th>texts</th>\n      <th>expressions</th>\n      <th>bgl_t</th>\n    </tr>\n  </thead>\n  <tbody>\n    <tr>\n      <th>0</th>\n      <td>img/16395.png</td>\n      <td>bethany hamilton</td>\n      <td>bethany hamilton</td>\n      <td>person clothing</td>\n      <td>chin long hair face nose eyebrow hair hairstyl...</td>\n      <td>handjobs sold seperately</td>\n      <td>joy</td>\n      <td>bethany hamilton</td>\n    </tr>\n    <tr>\n      <th>1</th>\n      <td>img/50162.png</td>\n      <td>diatonic button accordion</td>\n      <td>musician</td>\n      <td>person microphone</td>\n      <td>free reed aerophone music artist musician perf...</td>\n      <td>roses are black violets are black exs everythi...</td>\n      <td></td>\n      <td>diatonic button accordion</td>\n    </tr>\n    <tr>\n      <th>2</th>\n      <td>img/70691.png</td>\n      <td>watermelon</td>\n      <td>fruit melon watermelon</td>\n      <td>watermelon</td>\n      <td>cucumber gourd and melon family watermelon cit...</td>\n      <td>overdose</td>\n      <td></td>\n      <td>watermelon</td>\n    </tr>\n  </tbody>\n</table>\n</div>"
     },
     "metadata": {},
     "execution_count": 12
    }
   ],
   "source": [
    "vision.fillna('',inplace=True)\n",
    "for i in tqdm(range(vision.shape[0]),total=vision.shape[0]):\n",
    "    for j in range(vision.shape[1]):   \n",
    "        vision.iloc[i,j] = rm_tokens(tokens_to_remove,vision.iloc[i,j])\n",
    "vision.head(3)"
   ]
  },
  {
   "cell_type": "code",
   "execution_count": 28,
   "metadata": {},
   "outputs": [
    {
     "output_type": "display_data",
     "data": {
      "text/plain": "HBox(children=(HTML(value=''), FloatProgress(value=0.0, max=12140.0), HTML(value='')))",
      "application/vnd.jupyter.widget-view+json": {
       "version_major": 2,
       "version_minor": 0,
       "model_id": "df3a6466a4c846148ee99c43179fcc35"
      }
     },
     "metadata": {}
    },
    {
     "output_type": "stream",
     "name": "stdout",
     "text": [
      "\n"
     ]
    },
    {
     "output_type": "execute_result",
     "data": {
      "text/plain": [
       "              img           best_guess_labels             web_entities  \\\n",
       "0  img/16395.png            bethany hamilton         bethany hamilton    \n",
       "1  img/50162.png   diatonic button accordion                 musician    \n",
       "2  img/70691.png                  watermelon   fruit melon watermelon    \n",
       "\n",
       "        object_labels                                       image_labels  \\\n",
       "0    person clothing   chin long hair face nose eyebrow hair hairstyl...   \n",
       "1  person microphone   free reed aerophone music artist musician perf...   \n",
       "2         watermelon   cucumber gourd and melon family watermelon cit...   \n",
       "\n",
       "                                               texts expressions  \\\n",
       "0                         handjobs sold seperately          joy    \n",
       "1  roses are black violets are black exs everythi...               \n",
       "2                                         overdose                 \n",
       "\n",
       "                        bgl_t abstract  \\\n",
       "0           bethany hamilton             \n",
       "1  diatonic button accordion             \n",
       "2                 watermelon             \n",
       "\n",
       "                                               topic heading  \n",
       "0                               Shark attack victims          \n",
       "1  Accordion - Accordions are a family of box-sha...          \n",
       "2  Watermelon A scrambling and trailing vine in t...          "
      ],
      "text/html": "<div>\n<style scoped>\n    .dataframe tbody tr th:only-of-type {\n        vertical-align: middle;\n    }\n\n    .dataframe tbody tr th {\n        vertical-align: top;\n    }\n\n    .dataframe thead th {\n        text-align: right;\n    }\n</style>\n<table border=\"1\" class=\"dataframe\">\n  <thead>\n    <tr style=\"text-align: right;\">\n      <th></th>\n      <th>img</th>\n      <th>best_guess_labels</th>\n      <th>web_entities</th>\n      <th>object_labels</th>\n      <th>image_labels</th>\n      <th>texts</th>\n      <th>expressions</th>\n      <th>bgl_t</th>\n      <th>abstract</th>\n      <th>topic</th>\n      <th>heading</th>\n    </tr>\n  </thead>\n  <tbody>\n    <tr>\n      <th>0</th>\n      <td>img/16395.png</td>\n      <td>bethany hamilton</td>\n      <td>bethany hamilton</td>\n      <td>person clothing</td>\n      <td>chin long hair face nose eyebrow hair hairstyl...</td>\n      <td>handjobs sold seperately</td>\n      <td>joy</td>\n      <td>bethany hamilton</td>\n      <td></td>\n      <td>Shark attack victims</td>\n      <td></td>\n    </tr>\n    <tr>\n      <th>1</th>\n      <td>img/50162.png</td>\n      <td>diatonic button accordion</td>\n      <td>musician</td>\n      <td>person microphone</td>\n      <td>free reed aerophone music artist musician perf...</td>\n      <td>roses are black violets are black exs everythi...</td>\n      <td></td>\n      <td>diatonic button accordion</td>\n      <td></td>\n      <td>Accordion - Accordions are a family of box-sha...</td>\n      <td></td>\n    </tr>\n    <tr>\n      <th>2</th>\n      <td>img/70691.png</td>\n      <td>watermelon</td>\n      <td>fruit melon watermelon</td>\n      <td>watermelon</td>\n      <td>cucumber gourd and melon family watermelon cit...</td>\n      <td>overdose</td>\n      <td></td>\n      <td>watermelon</td>\n      <td></td>\n      <td>Watermelon A scrambling and trailing vine in t...</td>\n      <td></td>\n    </tr>\n  </tbody>\n</table>\n</div>"
     },
     "metadata": {},
     "execution_count": 28
    }
   ],
   "source": [
    "# GET CONTEXT\n",
    "abstracts, headings, topics = [], [], []\n",
    "\n",
    "for x in tqdm(vision.bgl_t.values,total=vision.shape[0]):\n",
    "    abstract, heading, topic = getContext(x)\n",
    "    abstracts.append(abstract)\n",
    "    headings.append(heading)\n",
    "    topics.append(topic)\n",
    "\n",
    "vision['abstract'] = abstracts\n",
    "vision['topic'] = topics\n",
    "vision['heading'] = headings\n",
    "\n",
    "vision.head(3)"
   ]
  },
  {
   "cell_type": "code",
   "execution_count": 29,
   "metadata": {},
   "outputs": [],
   "source": [
    "#FASTER RCNN PRETRAINED ON VISUAL GENOME\n",
    "\"\"\"\n",
    "from lxmert.processing_image import Preprocess\n",
    "from lxmert.visualizing_image import SingleImageViz\n",
    "from lxmert.modeling_frcnn import GeneralizedRCNN\n",
    "from lxmert.utils import Config\n",
    "\"\"\"\n",
    "import lxmert.utils as utils\n",
    "import numpy as np "
   ]
  },
  {
   "cell_type": "code",
   "execution_count": 30,
   "metadata": {},
   "outputs": [],
   "source": [
    "URL = \"https://pbs.twimg.com/media/Ei67zHZWoAAoOBQ?format=jpg&name=small\"\n",
    "OBJ_URL = \"https://raw.githubusercontent.com/airsplay/py-bottom-up-attention/master/demo/data/genome/1600-400-20/objects_vocab.txt\"\n",
    "ATTR_URL = \"https://raw.githubusercontent.com/airsplay/py-bottom-up-attention/master/demo/data/genome/1600-400-20/attributes_vocab.txt\"\n",
    "\n",
    "objids = utils.get_data(OBJ_URL)\n",
    "attrids = utils.get_data(ATTR_URL)"
   ]
  },
  {
   "cell_type": "code",
   "execution_count": 31,
   "metadata": {},
   "outputs": [
    {
     "output_type": "display_data",
     "data": {
      "text/plain": "HBox(children=(HTML(value=''), FloatProgress(value=0.0, max=12140.0), HTML(value='')))",
      "application/vnd.jupyter.widget-view+json": {
       "version_major": 2,
       "version_minor": 0,
       "model_id": "6723893c181f43389f9b92417bf84e5d"
      }
     },
     "metadata": {}
    },
    {
     "output_type": "stream",
     "name": "stdout",
     "text": [
      "\n"
     ]
    }
   ],
   "source": [
    "img = []\n",
    "sentences = []\n",
    "\n",
    "threshold = 0.5\n",
    "\n",
    "for npz_file in tqdm(os.listdir('../data/external/frcnn_features')):\n",
    "\n",
    "    img_id = int(npz_file[:-4])\n",
    "\n",
    "    features = np.load('../data/external/frcnn_features/'+npz_file,allow_pickle=True)\n",
    "\n",
    "    sentence = \"\"\n",
    "\n",
    "    features = {key:features[key].item() for key in features}['arr_0']\n",
    "\n",
    "    dup_obj = dict()\n",
    "\n",
    "    for i, obj in enumerate(features['obj_ids'][0]):\n",
    "        if features['obj_probs'][0][i] > threshold:\n",
    "            word = objids[obj]\n",
    "            att = attrids[features['attr_ids'][0][i]]\n",
    "            if word not in dup_obj:\n",
    "                dup_obj[word] = set(att)\n",
    "            elif att not in dup_obj[word]:\n",
    "                dup_obj[word].add(att)\n",
    "                sentence+= att + ' ' + word + \" , \"\n",
    "        else:\n",
    "            continue\n",
    "    \n",
    "    img.append(img_id)\n",
    "    sentences.append(sentence)"
   ]
  },
  {
   "cell_type": "code",
   "execution_count": 32,
   "metadata": {},
   "outputs": [],
   "source": [
    "result = pd.DataFrame({\n",
    "    'id':img,\n",
    "    'frcnn':sentences\n",
    "})"
   ]
  },
  {
   "cell_type": "code",
   "execution_count": 39,
   "metadata": {},
   "outputs": [
    {
     "output_type": "stream",
     "name": "stdout",
     "text": [
      "(12140, 2)\n"
     ]
    },
    {
     "output_type": "execute_result",
     "data": {
      "text/plain": [
       "'smiling man , white man , brown shirt , blue man , blue eye , long sleeve , blue sleeve , '"
      ]
     },
     "metadata": {},
     "execution_count": 39
    }
   ],
   "source": [
    "print(result.shape)\n",
    "result.frcnn[0]"
   ]
  },
  {
   "cell_type": "code",
   "execution_count": 41,
   "metadata": {},
   "outputs": [],
   "source": [
    "vision['id'] = vision.img.apply(lambda x: int(x[4:-5]))"
   ]
  },
  {
   "cell_type": "code",
   "execution_count": 42,
   "metadata": {},
   "outputs": [
    {
     "output_type": "stream",
     "name": "stdout",
     "text": [
      "(12140, 13)\n"
     ]
    },
    {
     "output_type": "execute_result",
     "data": {
      "text/plain": [
       "              img           best_guess_labels             web_entities  \\\n",
       "0  img/16395.png            bethany hamilton         bethany hamilton    \n",
       "1  img/50162.png   diatonic button accordion                 musician    \n",
       "2  img/70691.png                  watermelon   fruit melon watermelon    \n",
       "\n",
       "        object_labels                                       image_labels  \\\n",
       "0    person clothing   chin long hair face nose eyebrow hair hairstyl...   \n",
       "1  person microphone   free reed aerophone music artist musician perf...   \n",
       "2         watermelon   cucumber gourd and melon family watermelon cit...   \n",
       "\n",
       "                                               texts expressions  \\\n",
       "0                         handjobs sold seperately          joy    \n",
       "1  roses are black violets are black exs everythi...               \n",
       "2                                         overdose                 \n",
       "\n",
       "                        bgl_t abstract  \\\n",
       "0           bethany hamilton             \n",
       "1  diatonic button accordion             \n",
       "2                 watermelon             \n",
       "\n",
       "                                               topic heading     id  \\\n",
       "0                               Shark attack victims          16395   \n",
       "1  Accordion - Accordions are a family of box-sha...          50162   \n",
       "2  Watermelon A scrambling and trailing vine in t...          70691   \n",
       "\n",
       "                      frcnn  \n",
       "0  brown eye , blue ball ,   \n",
       "1                            \n",
       "2              large ear ,   "
      ],
      "text/html": "<div>\n<style scoped>\n    .dataframe tbody tr th:only-of-type {\n        vertical-align: middle;\n    }\n\n    .dataframe tbody tr th {\n        vertical-align: top;\n    }\n\n    .dataframe thead th {\n        text-align: right;\n    }\n</style>\n<table border=\"1\" class=\"dataframe\">\n  <thead>\n    <tr style=\"text-align: right;\">\n      <th></th>\n      <th>img</th>\n      <th>best_guess_labels</th>\n      <th>web_entities</th>\n      <th>object_labels</th>\n      <th>image_labels</th>\n      <th>texts</th>\n      <th>expressions</th>\n      <th>bgl_t</th>\n      <th>abstract</th>\n      <th>topic</th>\n      <th>heading</th>\n      <th>id</th>\n      <th>frcnn</th>\n    </tr>\n  </thead>\n  <tbody>\n    <tr>\n      <th>0</th>\n      <td>img/16395.png</td>\n      <td>bethany hamilton</td>\n      <td>bethany hamilton</td>\n      <td>person clothing</td>\n      <td>chin long hair face nose eyebrow hair hairstyl...</td>\n      <td>handjobs sold seperately</td>\n      <td>joy</td>\n      <td>bethany hamilton</td>\n      <td></td>\n      <td>Shark attack victims</td>\n      <td></td>\n      <td>16395</td>\n      <td>brown eye , blue ball ,</td>\n    </tr>\n    <tr>\n      <th>1</th>\n      <td>img/50162.png</td>\n      <td>diatonic button accordion</td>\n      <td>musician</td>\n      <td>person microphone</td>\n      <td>free reed aerophone music artist musician perf...</td>\n      <td>roses are black violets are black exs everythi...</td>\n      <td></td>\n      <td>diatonic button accordion</td>\n      <td></td>\n      <td>Accordion - Accordions are a family of box-sha...</td>\n      <td></td>\n      <td>50162</td>\n      <td></td>\n    </tr>\n    <tr>\n      <th>2</th>\n      <td>img/70691.png</td>\n      <td>watermelon</td>\n      <td>fruit melon watermelon</td>\n      <td>watermelon</td>\n      <td>cucumber gourd and melon family watermelon cit...</td>\n      <td>overdose</td>\n      <td></td>\n      <td>watermelon</td>\n      <td></td>\n      <td>Watermelon A scrambling and trailing vine in t...</td>\n      <td></td>\n      <td>70691</td>\n      <td>large ear ,</td>\n    </tr>\n  </tbody>\n</table>\n</div>"
     },
     "metadata": {},
     "execution_count": 42
    }
   ],
   "source": [
    "vision = pd.merge(vision,result,on='id',how=\"left\")\n",
    "print(vision.shape)\n",
    "vision.head(3)"
   ]
  },
  {
   "cell_type": "code",
   "execution_count": 44,
   "metadata": {},
   "outputs": [],
   "source": [
    "#SLURS, not sure by now"
   ]
  },
  {
   "cell_type": "code",
   "execution_count": 45,
   "metadata": {},
   "outputs": [
    {
     "output_type": "execute_result",
     "data": {
      "text/plain": [
       "\"\\ntest_unseen = pd.read_json('../data/raw/test_unseen.jsonl', lines=True)\\ntrain = pd.read_json('../data/raw/train.jsonl', lines=True)\\ndev_unseen = pd.read_json('../data/raw/dev_unseen.jsonl', lines=True)\\n\\ndata = pd.concat([train,dev_unseen,test_unseen],axis=0)[['id','img','text']]\\ndata.shape\""
      ]
     },
     "metadata": {},
     "execution_count": 45
    }
   ],
   "source": [
    "# DIF TEXT WITH OCR TEXT, not sure by now"
   ]
  },
  {
   "cell_type": "code",
   "execution_count": 48,
   "metadata": {},
   "outputs": [
    {
     "output_type": "stream",
     "name": "stdout",
     "text": [
      "357\n0\n"
     ]
    }
   ],
   "source": [
    "maxl = 0\n",
    "minl = 0\n",
    "for x in vision.topic.values:\n",
    "    maxl = max(maxl,len(x))\n",
    "    minl = min(minl,len(x))\n",
    "print(maxl)\n",
    "print(minl)"
   ]
  },
  {
   "cell_type": "code",
   "execution_count": 51,
   "metadata": {},
   "outputs": [
    {
     "output_type": "stream",
     "name": "stdout",
     "text": [
      "['Shark attack victims'\n 'Accordion - Accordions are a family of box-shaped musical instruments of the bellows-driven free-reed aerophone type, colloquially referred to as a squeezebox. A person who plays the accordion is called an accordionist. The concertina and bandoneón are related.'\n 'Watermelon A scrambling and trailing vine in the flowering plant family Cucurbitaceae. The species...'\n ''\n 'War in Afghanistan (2001–present) following United States invasion of Afghanistan Involvement against the Taliban and al-Qaeda by...'\n '' '' '' ''\n 'Beard The hair that grows on the chin, upper lip, cheeks and neck of humans and some non-human animals.'\n '' '' ''\n 'Shoulder The human shoulder is made up of three bones: the clavicle, the scapula, and the humerus as well...'\n '' 'Outer space' '' '' '' '' ''\n 'Blond A hair color characterized by low levels of the dark pigment eumelanin. The resultant visible...'\n '' ''\n 'Neck The part of the body, on many vertebrates, that separates the head from the torso or trunk.'\n 'Beauty A characteristic of an animal, idea, object, person or place that provides a perceptual...'\n 'Boy A young male human. The term is usually used for a child or an adolescent.'\n '' '' 'Yom Kippur Category']\n"
     ]
    }
   ],
   "source": [
    "print(vision.topic.values[0:30])"
   ]
  },
  {
   "cell_type": "code",
   "execution_count": 55,
   "metadata": {},
   "outputs": [
    {
     "output_type": "execute_result",
     "data": {
      "text/plain": [
       "              img                   best_guess_labels  \\\n",
       "0  img/16395.png                    bethany hamilton    \n",
       "1  img/50162.png           diatonic button accordion    \n",
       "2  img/70691.png                          watermelon    \n",
       "3  img/37405.png   lavadora para edredones king size    \n",
       "4  img/73506.png                guerra de afganistan    \n",
       "\n",
       "                                        web_entities  \\\n",
       "0                                  bethany hamilton    \n",
       "1                                          musician    \n",
       "2                            fruit melon watermelon    \n",
       "3  duvet clothes dryer lavanderia self service ma...   \n",
       "4      war in afghanistan afghanistan united states    \n",
       "\n",
       "                                    object_labels  \\\n",
       "0                                person clothing    \n",
       "1                              person microphone    \n",
       "2                                     watermelon    \n",
       "3          washing machine home appliance person    \n",
       "4  footwear clothing pants luggage & bags person    \n",
       "\n",
       "                                        image_labels  \\\n",
       "0  chin long hair face nose eyebrow hair hairstyl...   \n",
       "1  free reed aerophone music artist musician perf...   \n",
       "2  cucumber gourd and melon family watermelon cit...   \n",
       "3  major appliance clothes dryer home appliance l...   \n",
       "4               organism font human text adaptation    \n",
       "\n",
       "                                               texts expressions  \\\n",
       "0                         handjobs sold seperately          joy    \n",
       "1  roses are black violets are black exs everythi...               \n",
       "2                                         overdose                 \n",
       "3            introducing fidget spinner for women.                 \n",
       "4   look your dad fucked goats. i capped him.orry.                 \n",
       "\n",
       "                                   bgl_t  \\\n",
       "0                      bethany hamilton    \n",
       "1             diatonic button accordion    \n",
       "2                            watermelon    \n",
       "3  washing machine for king size duvets    \n",
       "4                    war in afghanistan    \n",
       "\n",
       "                                               topic     id  \\\n",
       "0                               Shark attack victims  16395   \n",
       "1  Accordion - Accordions are a family of box-sha...  50162   \n",
       "2  Watermelon A scrambling and trailing vine in t...  70691   \n",
       "3                                                     37405   \n",
       "4  War in Afghanistan (2001–present) following Un...  73506   \n",
       "\n",
       "                                        frcnn  \n",
       "0                    brown eye , blue ball ,   \n",
       "1                                              \n",
       "2                                large ear ,   \n",
       "3                    white bus , black bus ,   \n",
       "4  blue wall , standing woman , long woman ,   "
      ],
      "text/html": "<div>\n<style scoped>\n    .dataframe tbody tr th:only-of-type {\n        vertical-align: middle;\n    }\n\n    .dataframe tbody tr th {\n        vertical-align: top;\n    }\n\n    .dataframe thead th {\n        text-align: right;\n    }\n</style>\n<table border=\"1\" class=\"dataframe\">\n  <thead>\n    <tr style=\"text-align: right;\">\n      <th></th>\n      <th>img</th>\n      <th>best_guess_labels</th>\n      <th>web_entities</th>\n      <th>object_labels</th>\n      <th>image_labels</th>\n      <th>texts</th>\n      <th>expressions</th>\n      <th>bgl_t</th>\n      <th>topic</th>\n      <th>id</th>\n      <th>frcnn</th>\n    </tr>\n  </thead>\n  <tbody>\n    <tr>\n      <th>0</th>\n      <td>img/16395.png</td>\n      <td>bethany hamilton</td>\n      <td>bethany hamilton</td>\n      <td>person clothing</td>\n      <td>chin long hair face nose eyebrow hair hairstyl...</td>\n      <td>handjobs sold seperately</td>\n      <td>joy</td>\n      <td>bethany hamilton</td>\n      <td>Shark attack victims</td>\n      <td>16395</td>\n      <td>brown eye , blue ball ,</td>\n    </tr>\n    <tr>\n      <th>1</th>\n      <td>img/50162.png</td>\n      <td>diatonic button accordion</td>\n      <td>musician</td>\n      <td>person microphone</td>\n      <td>free reed aerophone music artist musician perf...</td>\n      <td>roses are black violets are black exs everythi...</td>\n      <td></td>\n      <td>diatonic button accordion</td>\n      <td>Accordion - Accordions are a family of box-sha...</td>\n      <td>50162</td>\n      <td></td>\n    </tr>\n    <tr>\n      <th>2</th>\n      <td>img/70691.png</td>\n      <td>watermelon</td>\n      <td>fruit melon watermelon</td>\n      <td>watermelon</td>\n      <td>cucumber gourd and melon family watermelon cit...</td>\n      <td>overdose</td>\n      <td></td>\n      <td>watermelon</td>\n      <td>Watermelon A scrambling and trailing vine in t...</td>\n      <td>70691</td>\n      <td>large ear ,</td>\n    </tr>\n    <tr>\n      <th>3</th>\n      <td>img/37405.png</td>\n      <td>lavadora para edredones king size</td>\n      <td>duvet clothes dryer lavanderia self service ma...</td>\n      <td>washing machine home appliance person</td>\n      <td>major appliance clothes dryer home appliance l...</td>\n      <td>introducing fidget spinner for women.</td>\n      <td></td>\n      <td>washing machine for king size duvets</td>\n      <td></td>\n      <td>37405</td>\n      <td>white bus , black bus ,</td>\n    </tr>\n    <tr>\n      <th>4</th>\n      <td>img/73506.png</td>\n      <td>guerra de afganistan</td>\n      <td>war in afghanistan afghanistan united states</td>\n      <td>footwear clothing pants luggage &amp; bags person</td>\n      <td>organism font human text adaptation</td>\n      <td>look your dad fucked goats. i capped him.orry.</td>\n      <td></td>\n      <td>war in afghanistan</td>\n      <td>War in Afghanistan (2001–present) following Un...</td>\n      <td>73506</td>\n      <td>blue wall , standing woman , long woman ,</td>\n    </tr>\n  </tbody>\n</table>\n</div>"
     },
     "metadata": {},
     "execution_count": 55
    }
   ],
   "source": [
    "vision.drop(['abstract','heading'],axis=1,inplace=True)\n",
    "vision.head()"
   ]
  },
  {
   "cell_type": "code",
   "execution_count": 59,
   "metadata": {},
   "outputs": [
    {
     "output_type": "stream",
     "name": "stdout",
     "text": [
      "Accordion - Accordions are a family of box-shaped musical instruments of the bellows-driven free-reed aerophone type, colloquially referred to as a squeezebox. A person who\n"
     ]
    },
    {
     "output_type": "execute_result",
     "data": {
      "text/plain": [
       "              img                   best_guess_labels  \\\n",
       "0  img/16395.png                    bethany hamilton    \n",
       "1  img/50162.png           diatonic button accordion    \n",
       "2  img/70691.png                          watermelon    \n",
       "3  img/37405.png   lavadora para edredones king size    \n",
       "4  img/73506.png                guerra de afganistan    \n",
       "\n",
       "                                        web_entities  \\\n",
       "0                                  bethany hamilton    \n",
       "1                                          musician    \n",
       "2                            fruit melon watermelon    \n",
       "3  duvet clothes dryer lavanderia self service ma...   \n",
       "4      war in afghanistan afghanistan united states    \n",
       "\n",
       "                                    object_labels  \\\n",
       "0                                person clothing    \n",
       "1                              person microphone    \n",
       "2                                     watermelon    \n",
       "3          washing machine home appliance person    \n",
       "4  footwear clothing pants luggage & bags person    \n",
       "\n",
       "                                        image_labels  \\\n",
       "0  chin long hair face nose eyebrow hair hairstyl...   \n",
       "1  free reed aerophone music artist musician perf...   \n",
       "2  cucumber gourd and melon family watermelon cit...   \n",
       "3  major appliance clothes dryer home appliance l...   \n",
       "4               organism font human text adaptation    \n",
       "\n",
       "                                               texts expressions  \\\n",
       "0                         handjobs sold seperately          joy    \n",
       "1  roses are black violets are black exs everythi...               \n",
       "2                                         overdose                 \n",
       "3            introducing fidget spinner for women.                 \n",
       "4   look your dad fucked goats. i capped him.orry.                 \n",
       "\n",
       "                                   bgl_t  \\\n",
       "0                      bethany hamilton    \n",
       "1             diatonic button accordion    \n",
       "2                            watermelon    \n",
       "3  washing machine for king size duvets    \n",
       "4                    war in afghanistan    \n",
       "\n",
       "                                               topic     id  \\\n",
       "0                               Shark attack victims  16395   \n",
       "1  Accordion - Accordions are a family of box-sha...  50162   \n",
       "2  Watermelon A scrambling and trailing vine in t...  70691   \n",
       "3                                                     37405   \n",
       "4  War in Afghanistan (2001–present) following Un...  73506   \n",
       "\n",
       "                                        frcnn  \n",
       "0                    brown eye , blue ball ,   \n",
       "1                                              \n",
       "2                                large ear ,   \n",
       "3                    white bus , black bus ,   \n",
       "4  blue wall , standing woman , long woman ,   "
      ],
      "text/html": "<div>\n<style scoped>\n    .dataframe tbody tr th:only-of-type {\n        vertical-align: middle;\n    }\n\n    .dataframe tbody tr th {\n        vertical-align: top;\n    }\n\n    .dataframe thead th {\n        text-align: right;\n    }\n</style>\n<table border=\"1\" class=\"dataframe\">\n  <thead>\n    <tr style=\"text-align: right;\">\n      <th></th>\n      <th>img</th>\n      <th>best_guess_labels</th>\n      <th>web_entities</th>\n      <th>object_labels</th>\n      <th>image_labels</th>\n      <th>texts</th>\n      <th>expressions</th>\n      <th>bgl_t</th>\n      <th>topic</th>\n      <th>id</th>\n      <th>frcnn</th>\n    </tr>\n  </thead>\n  <tbody>\n    <tr>\n      <th>0</th>\n      <td>img/16395.png</td>\n      <td>bethany hamilton</td>\n      <td>bethany hamilton</td>\n      <td>person clothing</td>\n      <td>chin long hair face nose eyebrow hair hairstyl...</td>\n      <td>handjobs sold seperately</td>\n      <td>joy</td>\n      <td>bethany hamilton</td>\n      <td>Shark attack victims</td>\n      <td>16395</td>\n      <td>brown eye , blue ball ,</td>\n    </tr>\n    <tr>\n      <th>1</th>\n      <td>img/50162.png</td>\n      <td>diatonic button accordion</td>\n      <td>musician</td>\n      <td>person microphone</td>\n      <td>free reed aerophone music artist musician perf...</td>\n      <td>roses are black violets are black exs everythi...</td>\n      <td></td>\n      <td>diatonic button accordion</td>\n      <td>Accordion - Accordions are a family of box-sha...</td>\n      <td>50162</td>\n      <td></td>\n    </tr>\n    <tr>\n      <th>2</th>\n      <td>img/70691.png</td>\n      <td>watermelon</td>\n      <td>fruit melon watermelon</td>\n      <td>watermelon</td>\n      <td>cucumber gourd and melon family watermelon cit...</td>\n      <td>overdose</td>\n      <td></td>\n      <td>watermelon</td>\n      <td>Watermelon A scrambling and trailing vine in t...</td>\n      <td>70691</td>\n      <td>large ear ,</td>\n    </tr>\n    <tr>\n      <th>3</th>\n      <td>img/37405.png</td>\n      <td>lavadora para edredones king size</td>\n      <td>duvet clothes dryer lavanderia self service ma...</td>\n      <td>washing machine home appliance person</td>\n      <td>major appliance clothes dryer home appliance l...</td>\n      <td>introducing fidget spinner for women.</td>\n      <td></td>\n      <td>washing machine for king size duvets</td>\n      <td></td>\n      <td>37405</td>\n      <td>white bus , black bus ,</td>\n    </tr>\n    <tr>\n      <th>4</th>\n      <td>img/73506.png</td>\n      <td>guerra de afganistan</td>\n      <td>war in afghanistan afghanistan united states</td>\n      <td>footwear clothing pants luggage &amp; bags person</td>\n      <td>organism font human text adaptation</td>\n      <td>look your dad fucked goats. i capped him.orry.</td>\n      <td></td>\n      <td>war in afghanistan</td>\n      <td>War in Afghanistan (2001–present) following Un...</td>\n      <td>73506</td>\n      <td>blue wall , standing woman , long woman ,</td>\n    </tr>\n  </tbody>\n</table>\n</div>"
     },
     "metadata": {},
     "execution_count": 59
    }
   ],
   "source": [
    "vision.topic = vision.topic.apply(lambda x : \" \".join(x.split()[:25]))\n",
    "print(vision.topic[1])\n",
    "vision.head()"
   ]
  },
  {
   "cell_type": "code",
   "execution_count": 60,
   "metadata": {},
   "outputs": [],
   "source": [
    "vision.fillna('')\n",
    "vision.to_csv('../data/interim/vision.csv')"
   ]
  },
  {
   "cell_type": "code",
   "execution_count": null,
   "metadata": {},
   "outputs": [],
   "source": []
  }
 ]
}